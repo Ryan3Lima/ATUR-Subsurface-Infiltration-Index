{
 "cells": [
  {
   "cell_type": "raw",
   "id": "12855012-cff3-4377-900f-13d155db02bf",
   "metadata": {
    "tags": [],
    "user_expressions": []
   },
   "source": [
    "---\n",
    "title: Getting Data from the National Map\n",
    "description: Using Python and HyRiver to use National Map Data for recharge enhancement suitability on hillslopes and forest roads\n",
    "name: Ryan Lima\n",
    "format:\n",
    "  html:\n",
    "    toc: true\n",
    "    code-fold: true\n",
    "    code-tools: true\n",
    "    echo: false\n",
    "---"
   ]
  },
  {
   "cell_type": "markdown",
   "id": "7210f3f4-64d3-4465-b8ef-bae2926b4462",
   "metadata": {},
   "source": [
    "## Overview\n"
   ]
  },
  {
   "cell_type": "markdown",
   "id": "c56fb7b7-c8b2-4551-8533-f4eb443814cc",
   "metadata": {},
   "source": [
    "## Introduction"
   ]
  },
  {
   "cell_type": "markdown",
   "id": "f12dc8ca-5704-46d1-9346-c5db0a9c8d38",
   "metadata": {},
   "source": [
    "**Uncovering the gaps in manage aquifer recharge for sustainabile groundwater: A focus on hillslopes and mountains "
   ]
  }
 ],
 "metadata": {
  "kernelspec": {
   "display_name": "Python 3 (ipykernel)",
   "language": "python",
   "name": "python3"
  },
  "language_info": {
   "codemirror_mode": {
    "name": "ipython",
    "version": 3
   },
   "file_extension": ".py",
   "mimetype": "text/x-python",
   "name": "python",
   "nbconvert_exporter": "python",
   "pygments_lexer": "ipython3",
   "version": "3.11.5"
  }
 },
 "nbformat": 4,
 "nbformat_minor": 5
}
