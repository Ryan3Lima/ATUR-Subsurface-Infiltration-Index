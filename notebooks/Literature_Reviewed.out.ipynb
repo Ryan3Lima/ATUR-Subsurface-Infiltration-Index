{
 "cells": [
  {
   "cell_type": "markdown",
   "metadata": {},
   "source": [
    "# \n",
    "\n",
    "## Literature Reviewed"
   ],
   "id": "59d95f0b-6efd-4e61-b44f-2a7014760dc6"
  },
  {
   "cell_type": "markdown",
   "metadata": {},
   "source": [
    "**Uncovering the gaps in manage aquifer recharge for sustainabile groundwater: A focus on hillslopes and mountains** \\[@meles_uncovering_2024\\]\n",
    "\n",
    "*Key findings:*\n",
    "\n",
    "> 1.  This paper recommends using mountain/hillslope managed aquifer recharge Hillslope-MAR and water chaptured by roadside channel networks as a potential new source and setting for MAR applications.\n",
    "> 2.  Suggests that road system-based managed aquifer recharge (Road-MAR) could have high potential for enhancing recharge through things like infiltrations channels.\n",
    "> 3.  Roads on mountain sides and hillslopes passing through areas with high concentrations of lineaments could be suitable areas\n",
    "\n",
    "*Keywords:*\n",
    "\n",
    "Managed Aquifer Recharge (MAR); Attenuation Zone, Groundwater, Lineaments/Faults, Hillslope-MAR, Road-MAR"
   ],
   "id": "4f91bc14ba9a5493"
  },
  {
   "cell_type": "markdown",
   "metadata": {},
   "source": [
    "**Mountain-Block Recharge: A Review of Current Understanding** \\[@markovich_mountainblock_2019\\]\n",
    "\n",
    "*Key findings:*\n",
    "\n",
    "> 1.  Mountain-block recharge confirmed as important source of recharge to basin aquifers in a variety of climatic and geologic settings globally.\n",
    "> 2.  Recent work advanced the understanding of fundamental controls on mountain-block recharge ans somewhat improved methods for characterization.\n",
    "> 3.  Future research should aim to acquire subsurface data in mountain blocks and at the mountain front.\n",
    "\n",
    "*Keywords:*\n",
    "\n",
    "Mountain Front Recharge (MFR), Mountain Block Recharge (MBR), Aquifer Recharge, Review"
   ],
   "id": "214b6c9ac3767353"
  },
  {
   "cell_type": "markdown",
   "metadata": {},
   "source": [
    "**Mountain-block hydrology and mountain-front recharge** \\[@hogan_mountain-block_2004\\]\n",
    "\n",
    "*Key findings:*\n",
    "\n",
    "> 1.  Explains the general processes at work in Mountain fronts and Mountain blocks\n",
    "> 2.  Provides practical advice for delineating the mountain front and the mountain block\n",
    "\n",
    "*Keywords:*\n",
    "\n",
    "Mountain Front Zone, Mountain Block"
   ],
   "id": "4c3f902fff486bc8"
  },
  {
   "cell_type": "markdown",
   "metadata": {},
   "source": [
    "**Title** \\[citation\\]\n",
    "\n",
    "*Key findings:*\n",
    "\n",
    "> 1.  text\n",
    "\n",
    "*Keywords:*"
   ],
   "id": "e363cd0cebdc1b"
  },
  {
   "cell_type": "markdown",
   "metadata": {},
   "source": [
    "## Notes\n",
    "\n",
    "> Menbru Meles suggested including: - Contributing areas for roadside channel segments - slope and slope length to calculate the volume of runoff that passes through these systems\n",
    "\n",
    "> Question:\n",
    "\n",
    "If we remove overland flow or intercept shallow soil or groundwater flow how will it impact ecosystems downstream? In other words how do we ensure that the water we capture is not supporting some riparian ecosystem downstream that we are sacrificing to increase recharge deeper in the aquifer."
   ],
   "id": "f2fe55c62c41276d"
  }
 ],
 "nbformat": 4,
 "nbformat_minor": 5,
 "metadata": {}
}
