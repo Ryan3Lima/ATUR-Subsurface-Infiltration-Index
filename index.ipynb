{
 "cells": [
  {
   "cell_type": "raw",
   "metadata": {},
   "source": [
    "---\n",
    "title: State-wide analysis of suitable areas for Opportunistic Recharge Enhancement on Roads and Hillslopes of Arizona\n",
    "author:\n",
    "  - name:\n",
    "      given: Ryan E.\n",
    "      family: Lima\n",
    "    degrees:\n",
    "        - PhD\n",
    "    orcid: 0000-0002-5352-7215\n",
    "    corresponding: true\n",
    "    email: ryan.lima@nau.edu\n",
    "    roles:\n",
    "      - Investigation    \n",
    "      - Software\n",
    "      - Visualization\n",
    "    affiliations:\n",
    "      - Northern Arizona University\n",
    "      - School of Informatics, Computing & Cyber Systems\n",
    "      - School of Earth and Sustainability\n",
    "  - name: Rayni Lewis\n",
    "    corresponding: false\n",
    "    roles:\n",
    "      - Investigation\n",
    "      - Software\n",
    "      - Visualization\n",
    "    affiliations:\n",
    "      - Northern Arizona University\n",
    "      - School of Earth and Sustainability\n",
    "  - name: Abraham E. Springer\n",
    "    degrees:\n",
    "        - PhD\n",
    "    corresponding: false\n",
    "    roles: []\n",
    "    affiliations:\n",
    "      - Northern Arizona University\n",
    "      - School of Earth and Sustainability\n",
    "  - name: Temuulen Tsagaan Sankey\n",
    "    degrees:\n",
    "        - PhD\n",
    "    corresponding: false\n",
    "    roles: []\n",
    "    affiliations:\n",
    "      - Northern Arizona University\n",
    "      - School of Informatics, Computing & Cyber Systems\n",
    "keywords:\n",
    "  - Road-MAR\n",
    "  - Hillslope-MAR\n",
    "  - Mountain Front Recharge (MFR)\n",
    "  - Mountain Block Recharge (MBR)\n",
    "  - Recharge\n",
    "  - Arizona\n",
    "  - Opportunistic Recharge Enhancement\n",
    "abstract: |\n",
    "    None\n",
    "  \n",
    "plain-language-summary: |\n",
    "    None\n",
    "key-points:\n",
    "  - Key point 1\n",
    "  - Key point 2 \n",
    "date: last-modified\n",
    "bibliography: references.bib\n",
    "citation:\n",
    "  container-title: Journal Name\n",
    "number-sections: true\n",
    "---"
   ]
  },
  {
   "cell_type": "markdown",
   "metadata": {},
   "source": "## Introduction {#sec-intro}\n"
  },
  {
   "cell_type": "markdown",
   "metadata": {},
   "source": [
    "## Data & Methods {#sec-data-methods}"
   ]
  },
  {
   "cell_type": "markdown",
   "metadata": {},
   "source": [
    "## Conclusion {#sec-conclusions}"
   ]
  },
  {
   "cell_type": "markdown",
   "metadata": {},
   "source": [
    "## References {.unnumbered}\n",
    "\n",
    ":::{#refs}\n",
    "\n",
    ":::"
   ]
  }
 ],
 "metadata": {
  "kernelspec": {
   "display_name": "Python 3 (ipykernel)",
   "language": "python",
   "name": "python3"
  },
  "language_info": {
   "codemirror_mode": {
    "name": "ipython",
    "version": 3
   },
   "file_extension": ".py",
   "mimetype": "text/x-python",
   "name": "python",
   "nbconvert_exporter": "python",
   "pygments_lexer": "ipython3",
   "version": "3.9.20"
  }
 },
 "nbformat": 4,
 "nbformat_minor": 4
}
